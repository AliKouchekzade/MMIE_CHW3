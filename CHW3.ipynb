{
  "cells": [
    {
      "cell_type": "markdown",
      "id": "6DjNbXa-VC9M",
      "metadata": {
        "id": "6DjNbXa-VC9M"
      },
      "source": [
        "<h1 align=\"center\">Mathematical Methods In Engineering - 25872</h1>\n",
        "<h4 align=\"center\">Dr. Amiri</h4>\n",
        "<h4 align=\"center\">Sharif University of Technology, Fall 2023</h4>\n",
        "<h4 align=\"center\">Python Assignment 3</h4>\n",
        "<h5 align=\"center\"><font color=\"cyan\"> Feel free to contact TA team for any possible questions about the assignment </font>\n",
        " </h5>\n",
        "<h5 align=\"center\"> <font color=\"cyan\"> Questions 1,2: @mh_momeni  -  Question 2,3: @Mahdi_h721 </font> </h5>\n"
      ]
    },
    {
      "cell_type": "markdown",
      "id": "dOy5BexzYrKT",
      "metadata": {
        "id": "dOy5BexzYrKT"
      },
      "source": [
        "You should write your code in the <font color='green'>Code Cell</font> and then run the <font color='green'>Evaluation Cell</font> to check the correctness of your code.<br>\n",
        "<font color='red'>**Please do not edit the codes in the Evaluation Cells.**</font>"
      ]
    },
    {
      "cell_type": "markdown",
      "id": "QCr2_h8H1j9e",
      "metadata": {
        "id": "QCr2_h8H1j9e"
      },
      "source": [
        "##  Q1. Implementing QR Factorization <sub><sup>``(40 pt.)``</sup></sub>"
      ]
    },
    {
      "cell_type": "markdown",
      "id": "6CfoujGZ4xGM",
      "metadata": {
        "id": "6CfoujGZ4xGM"
      },
      "source": [
        ">In this question, we are going to use QR factorization in computing eigenvalues. It is an important building block in numerical linear algebra. Recall that for any matrix $A$\n",
        ", $A=QR$\n",
        " where $Q$\n",
        " is orthogonal and $R$\n",
        " is upper-triangular.\n",
        "\n",
        " **Reminder**: The QR algorithm, uses the QR decomposition, but don't confuse the two."
      ]
    },
    {
      "cell_type": "code",
      "execution_count": 125,
      "id": "R4sLJJSJ9uB3",
      "metadata": {
        "id": "R4sLJJSJ9uB3"
      },
      "outputs": [],
      "source": [
        "import numpy as np\n",
        "np.set_printoptions(suppress=True, precision=4)"
      ]
    },
    {
      "cell_type": "code",
      "execution_count": 126,
      "id": "fPvw9v0z9w6-",
      "metadata": {
        "id": "fPvw9v0z9w6-"
      },
      "outputs": [],
      "source": [
        "n = 5\n",
        "A = np.random.rand(n,n)\n",
        "npQ, npR = np.linalg.qr(A)"
      ]
    },
    {
      "cell_type": "markdown",
      "id": "yfK0pVK-Expw",
      "metadata": {
        "id": "yfK0pVK-Expw"
      },
      "source": [
        "Check that Q is orthogonal:\n"
      ]
    },
    {
      "cell_type": "code",
      "execution_count": 127,
      "id": "L1j3vt0A93Sw",
      "metadata": {
        "id": "L1j3vt0A93Sw"
      },
      "outputs": [
        {
          "data": {
            "text/plain": [
              "(True, True)"
            ]
          },
          "execution_count": 127,
          "metadata": {},
          "output_type": "execute_result"
        }
      ],
      "source": [
        "np.allclose(np.eye(n), npQ @ npQ.T), np.allclose(np.eye(n), npQ.T @ npQ)"
      ]
    },
    {
      "cell_type": "markdown",
      "id": "lv1epi73E3u4",
      "metadata": {
        "id": "lv1epi73E3u4"
      },
      "source": [
        "Check that R is triangular"
      ]
    },
    {
      "cell_type": "code",
      "execution_count": 128,
      "id": "Wy0964ib948O",
      "metadata": {
        "id": "Wy0964ib948O"
      },
      "outputs": [
        {
          "data": {
            "text/plain": [
              "array([[-1.2808, -1.4087, -1.199 , -0.9481, -0.9249],\n",
              "       [ 0.    , -0.5634, -0.4546, -0.7451, -0.2966],\n",
              "       [ 0.    ,  0.    , -0.7428,  0.1698,  0.1841],\n",
              "       [ 0.    ,  0.    ,  0.    ,  0.4247, -0.4089],\n",
              "       [ 0.    ,  0.    ,  0.    ,  0.    , -0.3782]])"
            ]
          },
          "execution_count": 128,
          "metadata": {},
          "output_type": "execute_result"
        }
      ],
      "source": [
        "npR"
      ]
    },
    {
      "cell_type": "markdown",
      "id": "rm3YBjTgE7JI",
      "metadata": {
        "id": "rm3YBjTgE7JI"
      },
      "source": [
        "### Gram-Schmidt\n",
        "\n",
        "#### Classical Gram-Schmidt (unstable)"
      ]
    },
    {
      "cell_type": "markdown",
      "id": "RgkGF9QrFGIo",
      "metadata": {
        "id": "RgkGF9QrFGIo"
      },
      "source": [
        "For each $j$\n",
        ", calculate a single projection\n",
        "\n",
        "$$v_j=P_ja_j$$\n",
        "\n",
        "where $P_j$\n",
        " projects onto the space orthogonal to the span of $q_1,…,q_{j−1}$\n",
        "."
      ]
    },
    {
      "cell_type": "code",
      "execution_count": 129,
      "id": "MCMlpcCq95n5",
      "metadata": {
        "id": "MCMlpcCq95n5"
      },
      "outputs": [],
      "source": [
        "def cgs(A):\n",
        "    m, n = A.shape\n",
        "    Q = np.zeros([m,n], dtype=np.float64)\n",
        "    R = np.zeros([n,n], dtype=np.float64)\n",
        "    \n",
        "    ##Your Code start here\n",
        "    for k in range(n):\n",
        "        w = np.array(A[:,k]).reshape(n,)\n",
        "        r = []\n",
        "        for j in range(k):\n",
        "            r_r =  Q[:,j].T @ w\n",
        "            r.append(r_r)\n",
        "        for j in range(k):\n",
        "            w -= r[j] * Q[:,j]\n",
        "        norm = np.linalg.norm(w)\n",
        "        Q[:,k] = w / norm\n",
        "    \"\"\"q = np.zeros([m,n], dtype=np.float64)\n",
        "    \n",
        "    for i in range(n):\n",
        "        V = np.array(A[:,i]).reshape(n,)\n",
        "        for j in range(i):\n",
        "            cons , curr = np.array(A[:,i]).reshape(n,) , np.array(q[:,j]).reshape(n,)\n",
        "            r =  (curr.T @ cons) / (curr.T @ curr)\n",
        "            V -= r * curr\n",
        "        q[:,i] = V.copy()\n",
        "        col = np.array(q[:,i]).reshape(n,)\n",
        "        col /= np.linalg.norm(col)\n",
        "        Q[:,i] = col\"\"\"\n",
        "\n",
        "    for i in range(m):\n",
        "        for j in range(i,n):\n",
        "            R[i,j] = Q[:,i].T @ A[:,j].T\n",
        "    ##Your Code ends here\n",
        "    return Q, R"
      ]
    },
    {
      "cell_type": "code",
      "execution_count": 130,
      "id": "IJFWOh9K99sQ",
      "metadata": {
        "id": "IJFWOh9K99sQ"
      },
      "outputs": [
        {
          "data": {
            "text/plain": [
              "True"
            ]
          },
          "execution_count": 130,
          "metadata": {},
          "output_type": "execute_result"
        }
      ],
      "source": [
        "Q, R = cgs(A)\n",
        "np.allclose(A, Q @ R)"
      ]
    },
    {
      "cell_type": "markdown",
      "id": "wvRgVEVZF6Hh",
      "metadata": {
        "id": "wvRgVEVZF6Hh"
      },
      "source": [
        "Check if Q is unitary:"
      ]
    },
    {
      "cell_type": "code",
      "execution_count": 131,
      "id": "zvlHJzXJ-AuZ",
      "metadata": {
        "id": "zvlHJzXJ-AuZ"
      },
      "outputs": [
        {
          "data": {
            "text/plain": [
              "True"
            ]
          },
          "execution_count": 131,
          "metadata": {},
          "output_type": "execute_result"
        }
      ],
      "source": [
        "np.allclose(np.eye(len(Q)), Q.dot(Q.T))"
      ]
    },
    {
      "cell_type": "markdown",
      "id": "DldiZxrZGP32",
      "metadata": {
        "id": "DldiZxrZGP32"
      },
      "source": [
        "### Modified Gram-Schmidt (optional)"
      ]
    },
    {
      "cell_type": "markdown",
      "id": "Z1EjpGz7GSjv",
      "metadata": {
        "id": "Z1EjpGz7GSjv"
      },
      "source": [
        "Classical (unstable) Gram-Schmidt: for each $j$\n",
        ", calculate a single projection\n",
        "$$v_j=P_ja_j$$\n",
        "where $P_j$\n",
        " projects onto the space orthogonal to the span of $q_1,…,q_{j−1}$\n",
        ".\n",
        "\n",
        "Modified Gram-Schmidt: for each $j$\n",
        ", calculate $j−1$\n",
        " projections\n",
        "$$P_j=P_{⊥q_{j−1}⋯⊥q_2⊥q_1}$$"
      ]
    },
    {
      "cell_type": "code",
      "execution_count": 132,
      "id": "XAzJVdl_-GGC",
      "metadata": {
        "id": "XAzJVdl_-GGC"
      },
      "outputs": [],
      "source": [
        "n = 3\n",
        "A = np.random.rand(n,n).astype(np.float64)"
      ]
    },
    {
      "cell_type": "code",
      "execution_count": 133,
      "id": "c7LcnTVf-PJL",
      "metadata": {
        "id": "c7LcnTVf-PJL"
      },
      "outputs": [],
      "source": [
        "def mgs(A):\n",
        "    m, n = A.shape\n",
        "    Q = np.zeros([m,n], dtype=np.float64)\n",
        "    R = np.zeros([n,n], dtype=np.float64)\n",
        "    ##Your Code start here\n",
        "    for k in range(n):\n",
        "        w = np.array(A[:,k]).reshape(n,)\n",
        "        for j in range(k):\n",
        "            r =  Q[:,j].T @ w\n",
        "            w -= r * Q[:,j]\n",
        "        norm = np.linalg.norm(w)\n",
        "        Q[:,k] = w / norm\n",
        "        \n",
        "    for i in range(n):\n",
        "        for j in range(i,n):\n",
        "            R[i,j] = Q[:,i].T @ A[:,j].T\n",
        "    ##Your Code ends here\n",
        "    return Q, R"
      ]
    },
    {
      "cell_type": "code",
      "execution_count": 134,
      "id": "ym6szX9k-PmN",
      "metadata": {
        "id": "ym6szX9k-PmN"
      },
      "outputs": [
        {
          "data": {
            "text/plain": [
              "True"
            ]
          },
          "execution_count": 134,
          "metadata": {},
          "output_type": "execute_result"
        }
      ],
      "source": [
        "Q, R = mgs(A)\n",
        "np.allclose(np.eye(len(Q)), Q.dot(Q.T.conj()))"
      ]
    },
    {
      "cell_type": "code",
      "execution_count": 135,
      "id": "98KQly59-Rje",
      "metadata": {
        "id": "98KQly59-Rje"
      },
      "outputs": [
        {
          "data": {
            "text/plain": [
              "True"
            ]
          },
          "execution_count": 135,
          "metadata": {},
          "output_type": "execute_result"
        }
      ],
      "source": [
        "np.allclose(A, np.matmul(Q,R))"
      ]
    },
    {
      "cell_type": "markdown",
      "id": "e12E2lxUHPww",
      "metadata": {
        "id": "e12E2lxUHPww"
      },
      "source": [
        "### Classical vs Modified Gram-Schmidt"
      ]
    },
    {
      "cell_type": "markdown",
      "id": "b3cNqFaKHbXv",
      "metadata": {
        "id": "b3cNqFaKHbXv"
      },
      "source": [
        "In this part, we want to construct a square matrix $A$ with random singular vectors and widely varying singular values spaced by factors of 2 between $2^{−1}$\n",
        " and $2^{−(n+1)}$"
      ]
    },
    {
      "cell_type": "code",
      "execution_count": 136,
      "id": "ceyXm3VS-TGr",
      "metadata": {
        "id": "ceyXm3VS-TGr"
      },
      "outputs": [],
      "source": [
        "import matplotlib.pyplot as plt\n",
        "from matplotlib import rcParams\n",
        "%matplotlib inline"
      ]
    },
    {
      "cell_type": "code",
      "execution_count": 137,
      "id": "YwQJQo0w-X2h",
      "metadata": {
        "id": "YwQJQo0w-X2h"
      },
      "outputs": [],
      "source": [
        "n = 100\n",
        "U, X = np.linalg.qr(np.random.randn(n,n))   # set U to a random orthogonal matrix\n",
        "V, X = np.linalg.qr(np.random.randn(n,n))   # set V to a random orthogonal matrix\n",
        "S = np.diag(np.power(2,np.arange(-1,-(n+1),-1), dtype=float))  # Set S to a diagonal matrix w/ exp\n",
        "                                                              # values between 2^-1 and 2^-(n+1)"
      ]
    },
    {
      "cell_type": "code",
      "execution_count": 138,
      "id": "u3545jUo-af-",
      "metadata": {
        "id": "u3545jUo-af-"
      },
      "outputs": [],
      "source": [
        "A = np.matmul(U,np.matmul(S,V))\n",
        "QC, RC = cgs(A)\n",
        "QM, RM = mgs(A) # if you don't complete the mgs function, comment this line"
      ]
    },
    {
      "cell_type": "code",
      "execution_count": 139,
      "id": "e0D2Mkyz-dwA",
      "metadata": {
        "id": "e0D2Mkyz-dwA"
      },
      "outputs": [
        {
          "data": {
            "image/png": "[encoded data removed]",
            "text/plain": [
              "<Figure size 1000x1000 with 1 Axes>"
            ]
          },
          "metadata": {},
          "output_type": "display_data"
        }
      ],
      "source": [
        "plt.figure(figsize=(10,10))\n",
        "plt.semilogy(np.diag(S), 'r.', label=\"True Singular Values\")\n",
        "plt.semilogy(np.diag(RM), 'go', label=\"Modified Gram-Shmidt\")\n",
        "plt.semilogy(np.diag(RC), 'bx', label=\"Classic Gram-Shmidt\")\n",
        "plt.legend()\n",
        "rcParams.update({'font.size': 18})"
      ]
    },
    {
      "cell_type": "markdown",
      "id": "jZ1QS_ZPIjfr",
      "metadata": {
        "id": "jZ1QS_ZPIjfr"
      },
      "source": [
        "### Eigenvalue Decomposition using QR Factorization"
      ]
    },
    {
      "cell_type": "markdown",
      "id": "9dT9pBQxJa6q",
      "metadata": {
        "id": "9dT9pBQxJa6q"
      },
      "source": [
        "Use the QR algorithm (or QR method) to get the eigenvalues of matrix $A$. Do 100 iterations, and print out the 1st, 5th, 10th, 20th and 100th iteration.\n",
        "\n",
        " **Reminder**: The QR algorithm (or QR method), uses the QR factorization, but don't confuse the two."
      ]
    },
    {
      "cell_type": "code",
      "execution_count": 168,
      "id": "Gj7SxG6xKyTp",
      "metadata": {
        "id": "Gj7SxG6xKyTp"
      },
      "outputs": [],
      "source": [
        "##Your Code start here\n",
        "def eigvalues(A):\n",
        "    A_k = A.copy()\n",
        "    for i in range(1,101):\n",
        "        Q_k , R_k = cgs(A_k)\n",
        "        A_k = R_k @ Q_k\n",
        "        if i in [1,5,10,20,100]:\n",
        "            print('{} iteration : '.format(i),np.sort(np.diag(A_k)))\n",
        "##Your Code ends here"
      ]
    },
    {
      "cell_type": "code",
      "execution_count": 172,
      "id": "-a8L5pUdA39M",
      "metadata": {
        "id": "-a8L5pUdA39M"
      },
      "outputs": [
        {
          "name": "stdout",
          "output_type": "stream",
          "text": [
            "The matrix: \n",
            " [[ 1. -1.  0.  0.]\n",
            " [-1.  1. -1.  0.]\n",
            " [ 0. -1.  2.  0.]\n",
            " [ 0.  0.  0.  3.]]\n",
            "\n",
            " --- Built-in ---\n",
            "[-0.247   1.445   2.8019  3.    ] \n",
            "\n",
            "--- QR algorithm ---\n",
            "1 iteration :  [0. 2. 2. 3.]\n",
            "5 iteration :  [-0.247   1.4541  2.7929  3.    ]\n",
            "10 iteration :  [-0.247   1.4451  2.8019  3.    ]\n",
            "20 iteration :  [-0.247   1.445   2.8019  3.    ]\n",
            "100 iteration :  [-0.247   1.445   2.8019  3.    ]\n"
          ]
        }
      ],
      "source": [
        "A = np.array([1.0, -1.0, 0.0, 0.0, -1.0, 1.0, -1.0, 0.0, 0.0, -1.0, 2.0, 0.0, 0.0, 0.0, 0.0, 3.0]).reshape((4, 4))\n",
        "print(\"The matrix: \\n\", A)\n",
        "\n",
        "print(\"\\n --- Built-in ---\")\n",
        "print(np.linalg.eig(A)[0],'\\n')\n",
        "##Your Code start here\n",
        "print('--- QR algorithm ---')\n",
        "eigvalues(A)\n",
        "##Your Code ends here"
      ]
    },
    {
      "cell_type": "markdown",
      "id": "BDu8bga2x_yv",
      "metadata": {
        "id": "BDu8bga2x_yv"
      },
      "source": [
        "##  Q2. SVD & Image processing <sub><sup>``(30 pt.)``</sup></sub>"
      ]
    },
    {
      "cell_type": "markdown",
      "id": "WAE9_Yh1yYHi",
      "metadata": {
        "id": "WAE9_Yh1yYHi"
      },
      "source": [
        "> In this question, we are going to investigate the use of SVD as a tool to obtain the basis of the matrix in digital image processing.\n",
        "The first issue we will examine is image compression. For this purpose, in general, we can consider the information inside the image as a data matrix, then find a suitable basis for this information matrix and by depicting the primary matrix on the more important basis vectors and keeping the necessary information to show the initial image with less information.\n",
        "This process results in image compression. It should be noted that for simplicity, the images we are examining in this exercise are in black and white.\n",
        ">With the help of SVD, we can find a basis for the column space of the image matrix that we want, so that the columns of the image matrix have the highest correlation with the basis vectors.\n",
        ">On the other hand, if these bases are considered in descending order of the size of the singular values, they will contain the most general information of the columns of the image, so by keeping only r initial columns of the found bases (U) along with the combined vectors (V) and the singular values (Σ) corresponding to them, we can retain the image's overall image with a good approximation.\n",
        ">From an expert point of view, the reconstruction is actually a lower-order reconstruction of the primary matrix.\n",
        "In this view, the value of r is the parameter to control the amount of compression we want."
      ]
    },
    {
      "cell_type": "markdown",
      "id": "RtD2d_PYziE6",
      "metadata": {
        "id": "RtD2d_PYziE6"
      },
      "source": [
        "###  part 1\n",
        "\n",
        "In this part, the compression operation is performed on the input black and white image with the help of SVD analysis. One of the criteria for comparing the initial and final image is the PSNR criterion. Research about this criterion and draw the PSNR diagram in terms of different r. Then compare the results with the diagram by giving some test inputs and plotting the outputs.\n",
        "One of the inputs you give to the function should be the image pic.jpg."
      ]
    },
    {
      "cell_type": "code",
      "execution_count": 142,
      "id": "sc0h77aLyW0Q",
      "metadata": {
        "id": "sc0h77aLyW0Q"
      },
      "outputs": [],
      "source": [
        "##Your Code start here\n",
        "\n",
        "##Your Code ends here"
      ]
    },
    {
      "cell_type": "markdown",
      "id": "JWpFf4861Ct7",
      "metadata": {
        "id": "JWpFf4861Ct7"
      },
      "source": [
        "###  part 2\n",
        "\n",
        "Another issue that we can explore with a similar idea of applying base transform is removing noise from images. In the condition that the noise in the image is uniform and in such a way that it does not distort the general information in the image. from the point of view of SVD, according to the examination of the general information, the direction of the image vector on bases with larger singular values has not changed much, and removing the information related to Examining general information to vectors with less importance can remove noise and keep the main information of the image.\n",
        "In this part, add two different noises salt and pepper and Gaussian noise with a desired and appropriate range to the image pic.jpg so that the PSNR of both images is in the same range, then perform the noise reduction process with the help of SVD analysis.\n",
        "For both noises, draw the PSNR diagram in terms of different r.\n",
        "  Then compare the results with the graph by plotting a number of outputs.\n",
        "  Which of the noises is more effective in this method?\n"
      ]
    },
    {
      "cell_type": "code",
      "execution_count": 143,
      "id": "yGwLKf0G5xcs",
      "metadata": {
        "id": "yGwLKf0G5xcs"
      },
      "outputs": [],
      "source": [
        "##Your Code start here\n",
        "\n",
        "##Your Code ends here"
      ]
    },
    {
      "cell_type": "markdown",
      "id": "bggG3YqIVC9U",
      "metadata": {
        "id": "bggG3YqIVC9U"
      },
      "source": [
        "##  Q3. PCA and Clustering <sub><sup>``(40 pt.)``</sup></sub>\n",
        "In this problem we want to cluster some data points.\n",
        "But first, you should reduce the number of features by the PCA algorithm then use kmeans clustering algorithm"
      ]
    },
    {
      "cell_type": "code",
      "execution_count": 144,
      "id": "edfcb7ac",
      "metadata": {
        "id": "edfcb7ac"
      },
      "outputs": [
        {
          "ename": "ModuleNotFoundError",
          "evalue": "No module named 'seaborn'",
          "output_type": "error",
          "traceback": [
            "\u001b[1;31m---------------------------------------------------------------------------\u001b[0m",
            "\u001b[1;31mModuleNotFoundError\u001b[0m                       Traceback (most recent call last)",
            "Cell \u001b[1;32mIn[144], line 3\u001b[0m\n\u001b[0;32m      1\u001b[0m \u001b[38;5;28;01mimport\u001b[39;00m \u001b[38;5;21;01mpandas\u001b[39;00m \u001b[38;5;28;01mas\u001b[39;00m \u001b[38;5;21;01mpd\u001b[39;00m\n\u001b[0;32m      2\u001b[0m \u001b[38;5;28;01mimport\u001b[39;00m \u001b[38;5;21;01mnumpy\u001b[39;00m \u001b[38;5;28;01mas\u001b[39;00m \u001b[38;5;21;01mnp\u001b[39;00m\n\u001b[1;32m----> 3\u001b[0m \u001b[38;5;28;01mimport\u001b[39;00m \u001b[38;5;21;01mseaborn\u001b[39;00m \u001b[38;5;28;01mas\u001b[39;00m \u001b[38;5;21;01msns\u001b[39;00m\n\u001b[0;32m      4\u001b[0m \u001b[38;5;28;01mfrom\u001b[39;00m \u001b[38;5;21;01mtqdm\u001b[39;00m \u001b[38;5;28;01mimport\u001b[39;00m tqdm\n\u001b[0;32m      5\u001b[0m \u001b[38;5;28;01mimport\u001b[39;00m \u001b[38;5;21;01mmatplotlib\u001b[39;00m\u001b[38;5;21;01m.\u001b[39;00m\u001b[38;5;21;01mpyplot\u001b[39;00m \u001b[38;5;28;01mas\u001b[39;00m \u001b[38;5;21;01mplt\u001b[39;00m\n",
            "\u001b[1;31mModuleNotFoundError\u001b[0m: No module named 'seaborn'"
          ]
        }
      ],
      "source": [
        "import pandas as pd\n",
        "import numpy as np\n",
        "import seaborn as sns\n",
        "from tqdm import tqdm\n",
        "import matplotlib.pyplot as plt\n",
        "import matplotlib.cm as cm\n",
        "from sklearn.cluster import KMeans, AgglomerativeClustering, DBSCAN\n",
        "from yellowbrick.cluster import KElbowVisualizer\n",
        "from sklearn.metrics import silhouette_score as sil, calinski_harabasz_score as chs, silhouette_samples"
      ]
    },
    {
      "cell_type": "markdown",
      "id": "5f6c3b6d",
      "metadata": {
        "id": "5f6c3b6d"
      },
      "source": [
        "### Import Dataset"
      ]
    },
    {
      "cell_type": "code",
      "execution_count": null,
      "id": "2b9f3131",
      "metadata": {
        "id": "2b9f3131"
      },
      "outputs": [],
      "source": [
        "Datapoint = pd.read_csv('Datapoint.csv')\n"
      ]
    },
    {
      "cell_type": "markdown",
      "id": "5518de74",
      "metadata": {
        "id": "5518de74"
      },
      "source": [
        "### Correlation Heatmap"
      ]
    },
    {
      "cell_type": "markdown",
      "id": "E3zbMA6q2XR2",
      "metadata": {
        "id": "E3zbMA6q2XR2"
      },
      "source": [
        "In this part plot the correlation Heatmap of features.\n",
        "what is your suggestion about the number of principal components that they have high variance? Explain why."
      ]
    },
    {
      "cell_type": "code",
      "execution_count": null,
      "id": "e41be92d",
      "metadata": {
        "id": "e41be92d"
      },
      "outputs": [],
      "source": [
        "##Your Code start here\n",
        "\n",
        "##Your Code ends here"
      ]
    },
    {
      "cell_type": "markdown",
      "id": "9d9784e6",
      "metadata": {
        "id": "9d9784e6"
      },
      "source": [
        "###  Data Preprocessing"
      ]
    },
    {
      "cell_type": "code",
      "execution_count": null,
      "id": "3f6b0539",
      "metadata": {
        "id": "3f6b0539"
      },
      "outputs": [],
      "source": [
        "Datapoint.head()"
      ]
    },
    {
      "cell_type": "markdown",
      "id": "e33800f4",
      "metadata": {
        "id": "e33800f4"
      },
      "source": [
        "### PCA (Principal Component Analysis)\n",
        "> As you know for applying PCA we should scale our data points.Here we use MinMax and Standard Scaler.\n",
        "(First, use Standard Scaler)"
      ]
    },
    {
      "cell_type": "markdown",
      "id": "35jInTcr-OZW",
      "metadata": {
        "id": "35jInTcr-OZW"
      },
      "source": [
        "Calculate principal components and plot Explained variance by each component."
      ]
    },
    {
      "cell_type": "code",
      "execution_count": null,
      "id": "94827820",
      "metadata": {
        "id": "94827820"
      },
      "outputs": [],
      "source": [
        "##Your Code start here\n",
        "\n",
        "##Your Code ends here"
      ]
    },
    {
      "cell_type": "markdown",
      "id": "4Ehn1v1u_ays",
      "metadata": {
        "id": "4Ehn1v1u_ays"
      },
      "source": [
        "Apply PCA Algorithm from scratch and reduce the number of features to the number you have guessed in previous parts."
      ]
    },
    {
      "cell_type": "code",
      "execution_count": null,
      "id": "9e12dcd6",
      "metadata": {
        "id": "9e12dcd6"
      },
      "outputs": [],
      "source": [
        "##Your Code start here\n",
        "\n",
        "##Your Code ends here"
      ]
    },
    {
      "cell_type": "markdown",
      "id": "d3ba3f76",
      "metadata": {
        "id": "d3ba3f76"
      },
      "source": [
        "### PCA plot in 2D\n",
        "Plot data points using their two first features.What do you think about the number of clusters?"
      ]
    },
    {
      "cell_type": "code",
      "execution_count": null,
      "metadata": {},
      "outputs": [],
      "source": [
        "##Your Code start here\n",
        "\n",
        "##Your Code ends here"
      ]
    },
    {
      "cell_type": "markdown",
      "id": "080bc512",
      "metadata": {
        "id": "080bc512"
      },
      "source": [
        "### Do all previous steps for MinMax Scaling\n",
        "Tell your opinion about diffrences.\n",
        "\n",
        "\n"
      ]
    },
    {
      "cell_type": "code",
      "execution_count": null,
      "id": "UvKkw8qC9Giu",
      "metadata": {
        "id": "UvKkw8qC9Giu"
      },
      "outputs": [],
      "source": [
        "##Your Code start here\n",
        "\n",
        "##Your Code ends here"
      ]
    },
    {
      "cell_type": "markdown",
      "id": "7f3a0e1f",
      "metadata": {
        "id": "7f3a0e1f"
      },
      "source": [
        "### KMeans Clustering\n",
        "#### Elbow Method for Determining Cluster Amount on  Dataset"
      ]
    },
    {
      "cell_type": "markdown",
      "id": "DUrhj97f9c-7",
      "metadata": {
        "id": "DUrhj97f9c-7"
      },
      "source": [
        "Using the elbow method to find the optimal number of clusters"
      ]
    },
    {
      "cell_type": "code",
      "execution_count": null,
      "id": "qUGl1rwd9SZ2",
      "metadata": {
        "id": "qUGl1rwd9SZ2"
      },
      "outputs": [],
      "source": [
        "##Your Code start here\n",
        "\n",
        "##Your Code ends here"
      ]
    },
    {
      "cell_type": "markdown",
      "id": "BtAjErLCDvUh",
      "metadata": {
        "id": "BtAjErLCDvUh"
      },
      "source": [
        "What is inertia and silhouette metrics?\n",
        "Explain them briefly.\n",
        "\n",
        "\n"
      ]
    },
    {
      "cell_type": "code",
      "execution_count": null,
      "id": "a1a2e052",
      "metadata": {
        "id": "a1a2e052"
      },
      "outputs": [],
      "source": [
        "#You should save your final datapoints in pca_std_datapoint variable\n",
        "inertia = []\n",
        "for i in tqdm(range(2,10)):\n",
        "    kmeans = KMeans(n_clusters=i, init='k-means++', n_init=15, max_iter= 500, random_state=17)\n",
        "    kmeans.fit(pca_std_datapoint)\n",
        "    inertia.append(kmeans.inertia_)"
      ]
    },
    {
      "cell_type": "code",
      "execution_count": null,
      "id": "e1127413",
      "metadata": {
        "id": "e1127413"
      },
      "outputs": [],
      "source": [
        "silhouette = {}\n",
        "for i in tqdm(range(2,10)):\n",
        "    kmeans = KMeans(n_clusters=i, init='k-means++', n_init=15, max_iter=500, random_state=17)\n",
        "    kmeans.fit(pca_std_datapoint)\n",
        "    silhouette[i] = sil(pca_std_datapoint, kmeans.labels_, metric='euclidean')"
      ]
    },
    {
      "cell_type": "markdown",
      "id": "aoSZVfFqQcOB",
      "metadata": {
        "id": "aoSZVfFqQcOB"
      },
      "source": [
        "Plot the **inertia** and **silhouette ** values"
      ]
    },
    {
      "cell_type": "code",
      "execution_count": null,
      "id": "73c87211",
      "metadata": {
        "id": "73c87211"
      },
      "outputs": [],
      "source": [
        "##Your Code start here\n",
        "\n",
        "##Your Code ends here"
      ]
    },
    {
      "cell_type": "markdown",
      "id": "-qIUXiB4EM-g",
      "metadata": {
        "id": "-qIUXiB4EM-g"
      },
      "source": [
        "Tune the hyper parameters based on your conclusions."
      ]
    },
    {
      "cell_type": "code",
      "execution_count": null,
      "id": "eab0bab0",
      "metadata": {
        "id": "eab0bab0"
      },
      "outputs": [],
      "source": [
        "model_kmeans = KMeans(n_clusters=..., random_state=0, init='k-means++')\n",
        "y_predict_kmeans1 = model_kmeans.fit_predict(pca_std_datapoints)\n"
      ]
    },
    {
      "cell_type": "markdown",
      "id": "epOgtbJqAud-",
      "metadata": {
        "id": "epOgtbJqAud-"
      },
      "source": [
        "#Now plot the datapoints usig two first features\n",
        "(Each cluster in a different colour)"
      ]
    },
    {
      "cell_type": "code",
      "execution_count": null,
      "id": "bHFrqDRLA8lM",
      "metadata": {
        "id": "bHFrqDRLA8lM"
      },
      "outputs": [],
      "source": []
    },
    {
      "cell_type": "markdown",
      "id": "d0ad8c90",
      "metadata": {
        "id": "d0ad8c90"
      },
      "source": [
        "Do all previous steps for MinMax scaled data points.\n",
        "\n",
        "\n",
        "\n"
      ]
    },
    {
      "cell_type": "code",
      "execution_count": null,
      "id": "76DxGBjQRvMm",
      "metadata": {
        "id": "76DxGBjQRvMm"
      },
      "outputs": [],
      "source": []
    },
    {
      "cell_type": "markdown",
      "id": "fOLVOyKu_nec",
      "metadata": {
        "id": "fOLVOyKu_nec"
      },
      "source": [
        "Compare the results of different scaling methods in a PCA problem"
      ]
    }
  ],
  "metadata": {
    "colab": {
      "provenance": []
    },
    "kernelspec": {
      "display_name": "Python 3 (ipykernel)",
      "language": "python",
      "name": "python3"
    },
    "language_info": {
      "codemirror_mode": {
        "name": "ipython",
        "version": 3
      },
      "file_extension": ".py",
      "mimetype": "text/x-python",
      "name": "python",
      "nbconvert_exporter": "python",
      "pygments_lexer": "ipython3",
      "version": "3.11.5"
    }
  },
  "nbformat": 4,
  "nbformat_minor": 5
}
